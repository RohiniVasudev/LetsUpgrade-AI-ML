{
 "cells": [
  {
   "cell_type": "markdown",
   "metadata": {},
   "source": [
    "# DAY4 ASSIGNMENTS"
   ]
  },
  {
   "cell_type": "code",
   "execution_count": 5,
   "metadata": {},
   "outputs": [
    {
     "name": "stdout",
     "output_type": "stream",
     "text": [
      "Addition of two complex numbers :  (7-4j)\n",
      "Subtraction of two complex numbers :  (1+10j)\n",
      "Multiplication of two complex numbers :  (33-19j)\n",
      "Division of two complex numbers :  (-0.15517241379310348+0.6379310344827587j)\n"
     ]
    },
    {
     "data": {
      "text/plain": [
       "'floor division cant be performed in complex'"
      ]
     },
     "execution_count": 5,
     "metadata": {},
     "output_type": "execute_result"
    }
   ],
   "source": [
    "#question 1\n",
    "print(\"Addition of two complex numbers : \",(4+3j)+(3-7j))\n",
    "print(\"Subtraction of two complex numbers : \",(4+3j)-(3-7j))\n",
    "print(\"Multiplication of two complex numbers : \",(4+3j)*(3-7j))\n",
    "print(\"Division of two complex numbers : \",(4+3j)/(3-7j))\n",
    "#print(\"floor division of two complex numbers : \",(4+3j)/(3-7j))\n",
    "'''floor division cant be performed in complex'''\n",
    "#print(\"Division of two complex numbers : \",(4+3j)%(3-7j)) cant be performed."
   ]
  },
  {
   "cell_type": "markdown",
   "metadata": {},
   "source": [
    "#question2\n",
    "Range function()\n",
    "-The start,stop and step parameters are all integers.\n",
    "-start will start generating integers and stop will stop generating integers.\n",
    "-Step will tell integers are generated in sequence or should be skipped.\n",
    " eg:\n",
    "def frange(start,stop,step):\n",
    "i=start\n",
    "while i<stop:\n",
    "i += step\n",
    "\n",
    "for i in frange(5,0.2,8):\n",
    "print(i)"
   ]
  },
  {
   "cell_type": "code",
   "execution_count": 21,
   "metadata": {},
   "outputs": [
    {
     "name": "stdout",
     "output_type": "stream",
     "text": [
      "28\n",
      "Multiplication results 3900\n"
     ]
    }
   ],
   "source": [
    "#question3\n",
    "\n",
    "a=78\n",
    "b=50\n",
    "c=a-b\n",
    "print(c)\n",
    "\n",
    "if c>25:\n",
    "    print('Multiplication results',a*b)\n",
    "else:\n",
    "    print('Division results',a/b)"
   ]
  },
  {
   "cell_type": "code",
   "execution_count": 25,
   "metadata": {},
   "outputs": [
    {
     "name": "stdout",
     "output_type": "stream",
     "text": [
      "Numbers divisible by 2 are [12, 54, 102]\n"
     ]
    }
   ],
   "source": [
    "#question4\n",
    "my_list = [12, 65, 54, 39, 102, 339, 221,]\n",
    "result = list(filter(lambda x: (x % 2 == 0), my_list))\n",
    "\n",
    "# display the result\n",
    "print(\"Numbers divisible by 2 are\",result)"
   ]
  },
  {
   "cell_type": "code",
   "execution_count": 24,
   "metadata": {},
   "outputs": [
    {
     "name": "stdout",
     "output_type": "stream",
     "text": [
      "55\n",
      "64\n",
      "21\n",
      "78\n",
      "32\n"
     ]
    }
   ],
   "source": [
    "#question5\n",
    "x=[12,4,3,2,55,64,21,78,32,7]\n",
    "for i in x:\n",
    "\n",
    "    if ((i/2)>7):\n",
    "\n",
    "        print(i)"
   ]
  },
  {
   "cell_type": "code",
   "execution_count": null,
   "metadata": {},
   "outputs": [],
   "source": []
  }
 ],
 "metadata": {
  "kernelspec": {
   "display_name": "Python 3",
   "language": "python",
   "name": "python3"
  },
  "language_info": {
   "codemirror_mode": {
    "name": "ipython",
    "version": 3
   },
   "file_extension": ".py",
   "mimetype": "text/x-python",
   "name": "python",
   "nbconvert_exporter": "python",
   "pygments_lexer": "ipython3",
   "version": "3.7.4"
  }
 },
 "nbformat": 4,
 "nbformat_minor": 2
}
