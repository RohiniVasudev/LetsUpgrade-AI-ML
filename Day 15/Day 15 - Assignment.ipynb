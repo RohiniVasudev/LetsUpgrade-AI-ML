{
 "cells": [
  {
   "cell_type": "markdown",
   "metadata": {},
   "source": [
    "# 1. Create a 3x3x3 array with random values "
   ]
  },
  {
   "cell_type": "code",
   "execution_count": 2,
   "metadata": {},
   "outputs": [
    {
     "name": "stdout",
     "output_type": "stream",
     "text": [
      "[[[0.11541352 0.91344554 0.70463829]\n",
      "  [0.6296027  0.60089809 0.26935253]\n",
      "  [0.69373446 0.52661753 0.64645416]]\n",
      "\n",
      " [[0.78752427 0.87397854 0.05799578]\n",
      "  [0.66506489 0.14390012 0.60941159]\n",
      "  [0.49966252 0.5453928  0.04520475]]\n",
      "\n",
      " [[0.00685893 0.58807621 0.68337447]\n",
      "  [0.46379633 0.40377631 0.5785745 ]\n",
      "  [0.29914135 0.52952204 0.73637674]]]\n"
     ]
    }
   ],
   "source": [
    "import numpy as np\n",
    "print(np.random.random((3,3,3)))"
   ]
  },
  {
   "cell_type": "markdown",
   "metadata": {},
   "source": [
    "# 2.Create a 5x5 matrix with values 1,2,3,4 just below the diagonal"
   ]
  },
  {
   "cell_type": "code",
   "execution_count": 3,
   "metadata": {},
   "outputs": [
    {
     "name": "stdout",
     "output_type": "stream",
     "text": [
      "[[1 0 0 0]\n",
      " [0 2 0 0]\n",
      " [0 0 3 0]\n",
      " [0 0 0 4]]\n"
     ]
    }
   ],
   "source": [
    "print(np.diag([1,2,3,4]))"
   ]
  },
  {
   "cell_type": "markdown",
   "metadata": {},
   "source": [
    "# 3.Create a 8x8 matrix and fill it with a checkerboard pattern"
   ]
  },
  {
   "cell_type": "code",
   "execution_count": 6,
   "metadata": {},
   "outputs": [
    {
     "name": "stdout",
     "output_type": "stream",
     "text": [
      "[[0. 1. 0. 1. 0. 1. 0. 1.]\n",
      " [1. 0. 1. 0. 1. 0. 1. 0.]\n",
      " [0. 1. 0. 1. 0. 1. 0. 1.]\n",
      " [1. 0. 1. 0. 1. 0. 1. 0.]\n",
      " [0. 1. 0. 1. 0. 1. 0. 1.]\n",
      " [1. 0. 1. 0. 1. 0. 1. 0.]\n",
      " [0. 1. 0. 1. 0. 1. 0. 1.]\n",
      " [1. 0. 1. 0. 1. 0. 1. 0.]]\n"
     ]
    }
   ],
   "source": [
    "m = np.zeros((8,8))\n",
    "m[1::2,::2] = 1\n",
    "m[::2,1::2] = 1\n",
    "print(m)"
   ]
  },
  {
   "cell_type": "markdown",
   "metadata": {},
   "source": [
    "# 4. Normalize a 5x5 random matrix"
   ]
  },
  {
   "cell_type": "code",
   "execution_count": 10,
   "metadata": {},
   "outputs": [
    {
     "name": "stdout",
     "output_type": "stream",
     "text": [
      "[[ 1.3485813   0.37664471 -1.52325993 -0.17589295 -1.28804606]\n",
      " [-1.45426669 -0.6851282  -0.07933025 -0.49603232  1.08340203]\n",
      " [ 0.06555329  1.12293962  1.31815904  0.40269458 -1.28887413]\n",
      " [ 1.15788304 -0.87308014  0.22190261 -0.20030312 -1.36306122]\n",
      " [ 1.57064449  0.41787786  0.23790089 -1.2597211   1.36281267]]\n"
     ]
    }
   ],
   "source": [
    "n = np.random.random((5,5))\n",
    "norm = (n - np.mean(n))/np.std(n)\n",
    "print(norm)"
   ]
  },
  {
   "cell_type": "markdown",
   "metadata": {},
   "source": [
    "# 5.  How to find common values between two arrays?"
   ]
  },
  {
   "cell_type": "code",
   "execution_count": 13,
   "metadata": {},
   "outputs": [
    {
     "name": "stdout",
     "output_type": "stream",
     "text": [
      "[0 1 2]\n"
     ]
    }
   ],
   "source": [
    "a = np.random.randint(0,5,5)\n",
    "b = np.random.randint(0,5,5)\n",
    "print(np.intersect1d(a,b))"
   ]
  },
  {
   "cell_type": "markdown",
   "metadata": {},
   "source": [
    "# 6.How to get the dates of yesterday, today and tomorrow?"
   ]
  },
  {
   "cell_type": "code",
   "execution_count": 15,
   "metadata": {},
   "outputs": [
    {
     "name": "stdout",
     "output_type": "stream",
     "text": [
      "2020-08-23\n",
      "2020-08-24\n",
      "2020-08-25\n"
     ]
    }
   ],
   "source": [
    "print(np.datetime64('today') - np.timedelta64(1))\n",
    "print(np.datetime64('today'))\n",
    "print(np.datetime64('today') + np.timedelta64(1))"
   ]
  },
  {
   "cell_type": "markdown",
   "metadata": {},
   "source": [
    "# 7. Consider two random array A and B, check if they are equal"
   ]
  },
  {
   "cell_type": "code",
   "execution_count": 16,
   "metadata": {},
   "outputs": [
    {
     "name": "stdout",
     "output_type": "stream",
     "text": [
      "False\n"
     ]
    }
   ],
   "source": [
    "e = np.random.randint(0,10,10)\n",
    "r = np.random.randint(0,10,10)\n",
    "print(np.array_equal(e,r))"
   ]
  },
  {
   "cell_type": "markdown",
   "metadata": {},
   "source": [
    "# 8.Create random vector of size 10 and replace the maximum value by 0 "
   ]
  },
  {
   "cell_type": "code",
   "execution_count": 18,
   "metadata": {},
   "outputs": [
    {
     "name": "stdout",
     "output_type": "stream",
     "text": [
      "[0.20777551 0.81522138 0.12476065 0.66510594 0.         0.77987077\n",
      " 0.63657126 0.70874129 0.17046766 0.5194079 ]\n"
     ]
    }
   ],
   "source": [
    "rv = np.random.random(10)\n",
    "rv[rv.argmax()] = 0\n",
    "print(rv)"
   ]
  },
  {
   "cell_type": "markdown",
   "metadata": {},
   "source": [
    "# 9. How to print all the values of an array?"
   ]
  },
  {
   "cell_type": "code",
   "execution_count": 22,
   "metadata": {},
   "outputs": [
    {
     "name": "stdout",
     "output_type": "stream",
     "text": [
      "[0.86530864 0.83057092 0.12420585 0.16574846 0.00855685 0.61051425\n",
      " 0.09844337 0.15509538 0.16307718 0.11009819]\n"
     ]
    }
   ],
   "source": [
    "np.set_printoptions(threshold=np.inf)\n",
    "z = np.random.random(10)\n",
    "print(z)"
   ]
  },
  {
   "cell_type": "markdown",
   "metadata": {},
   "source": [
    "# 10.Subtract the mean of each row of a matrix"
   ]
  },
  {
   "cell_type": "code",
   "execution_count": 27,
   "metadata": {},
   "outputs": [
    {
     "name": "stdout",
     "output_type": "stream",
     "text": [
      "[[-0.28733599  0.26912499  0.28993346  0.35635559  0.36299307]\n",
      " [-0.38171695 -0.27173004  0.23117929  0.24092269 -0.01470038]\n",
      " [-0.24333741 -0.35260347  0.14204784 -0.19926042 -0.15672839]\n",
      " [-0.52940607  0.12983856  0.39162376  0.03440524  0.12132249]\n",
      " [-0.16058262  0.45922001  0.33853528 -0.38026723 -0.38983328]]\n"
     ]
    }
   ],
   "source": [
    "a = np.random.random((5,5))\n",
    "b = a - a.mean(axis=1)\n",
    "print(b)"
   ]
  },
  {
   "cell_type": "markdown",
   "metadata": {},
   "source": [
    "# 11.Consider a given vector, how to add 1 to each element indexed by a second vector (be careful with repeated indices)? "
   ]
  },
  {
   "cell_type": "code",
   "execution_count": 38,
   "metadata": {},
   "outputs": [
    {
     "name": "stdout",
     "output_type": "stream",
     "text": [
      "[ 9.  5. 11. 13.  7.]\n"
     ]
    }
   ],
   "source": [
    "a = np.ones(5)\n",
    "b = np.random.randint(0,len(a),20)\n",
    "a += np.bincount(b, minlength=len(a))\n",
    "np.add.at(a, b, 1)\n",
    "print(a)"
   ]
  },
  {
   "cell_type": "markdown",
   "metadata": {},
   "source": [
    "# 12.How to get the diagonal of a dot product?"
   ]
  },
  {
   "cell_type": "code",
   "execution_count": 29,
   "metadata": {},
   "outputs": [
    {
     "name": "stdout",
     "output_type": "stream",
     "text": [
      "[1.09831994 1.54957859 2.9420059  1.44714032 1.65000002]\n"
     ]
    }
   ],
   "source": [
    "x = np.random.random((5,5))\n",
    "y = np.random.random((5,5))\n",
    "\n",
    "print(np.diag(np.dot(x, y)))"
   ]
  },
  {
   "cell_type": "markdown",
   "metadata": {},
   "source": [
    "# 13.How to find the most frequent value in an array?"
   ]
  },
  {
   "cell_type": "code",
   "execution_count": 32,
   "metadata": {},
   "outputs": [
    {
     "name": "stdout",
     "output_type": "stream",
     "text": [
      "[7 5 3 2 8 1 9 1 5 6 8 2 1 3 9 7 4 1 5 7]\n",
      "Frequent value =  1\n"
     ]
    }
   ],
   "source": [
    "a = np.random.randint(0,10,20)\n",
    "print(a)\n",
    "print(\"Frequent value = \", np.bincount(a).argmax())"
   ]
  },
  {
   "cell_type": "markdown",
   "metadata": {},
   "source": [
    "# 14.How to get the n largest values of an array"
   ]
  },
  {
   "cell_type": "code",
   "execution_count": 34,
   "metadata": {},
   "outputs": [
    {
     "name": "stdout",
     "output_type": "stream",
     "text": [
      "[990 991 992 993 994 995 996 997 998 999]\n"
     ]
    }
   ],
   "source": [
    "a = np.arange(1000)\n",
    "np.random.shuffle(a)\n",
    "n = 10\n",
    "print (a[np.argsort(a)[-n:]])"
   ]
  },
  {
   "cell_type": "markdown",
   "metadata": {},
   "source": [
    "# 15.How to create a record array from a regular array?"
   ]
  },
  {
   "cell_type": "code",
   "execution_count": 35,
   "metadata": {},
   "outputs": [
    {
     "name": "stdout",
     "output_type": "stream",
     "text": [
      "[('Hello', 1) ('World', 2)]\n"
     ]
    }
   ],
   "source": [
    "a = np.array(['Hello','World'])\n",
    "b = np.array([1,2])\n",
    "c = np.core.records.fromarrays([a,b],names='A,B')\n",
    "print(c)"
   ]
  }
 ],
 "metadata": {
  "kernelspec": {
   "display_name": "Python 3",
   "language": "python",
   "name": "python3"
  },
  "language_info": {
   "codemirror_mode": {
    "name": "ipython",
    "version": 3
   },
   "file_extension": ".py",
   "mimetype": "text/x-python",
   "name": "python",
   "nbconvert_exporter": "python",
   "pygments_lexer": "ipython3",
   "version": "3.7.6"
  }
 },
 "nbformat": 4,
 "nbformat_minor": 2
}
