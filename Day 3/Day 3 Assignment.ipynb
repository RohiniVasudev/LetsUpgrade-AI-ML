{
 "cells": [
  {
   "cell_type": "markdown",
   "metadata": {},
   "source": [
    "# Question 1 "
   ]
  },
  {
   "cell_type": "code",
   "execution_count": 4,
   "metadata": {},
   "outputs": [
    {
     "name": "stdout",
     "output_type": "stream",
     "text": [
      "(2+2j)\n"
     ]
    }
   ],
   "source": [
    "a = complex(3,4)\n",
    "b = complex(1,2)\n",
    "c = a - b\n",
    "print(c)"
   ]
  },
  {
   "cell_type": "markdown",
   "metadata": {},
   "source": [
    "------"
   ]
  },
  {
   "cell_type": "markdown",
   "metadata": {},
   "source": [
    "# Question 2"
   ]
  },
  {
   "cell_type": "code",
   "execution_count": 17,
   "metadata": {},
   "outputs": [
    {
     "name": "stdout",
     "output_type": "stream",
     "text": [
      "Enter a number 625\n",
      "Fourth Root -  5.0\n"
     ]
    }
   ],
   "source": [
    "import math\n",
    "num = int(input(\"Enter a number \"))\n",
    "n = math.pow(num,0.25)\n",
    "print(\"Fourth Root - \",n)"
   ]
  },
  {
   "cell_type": "markdown",
   "metadata": {},
   "source": [
    "-------"
   ]
  },
  {
   "cell_type": "markdown",
   "metadata": {},
   "source": [
    "# Question 3"
   ]
  },
  {
   "cell_type": "code",
   "execution_count": 18,
   "metadata": {},
   "outputs": [
    {
     "name": "stdout",
     "output_type": "stream",
     "text": [
      "Enter the first Number 10\n",
      "Enter the second Number 20\n",
      "Before Swapping\n",
      "A =  10\n",
      "B =  20\n",
      "After Swapping\n",
      "A =  20\n",
      "B =  10\n"
     ]
    }
   ],
   "source": [
    "a = int(input(\"Enter the first Number \"))\n",
    "b = int(input(\"Enter the second Number \"))\n",
    "print(\"Before Swapping\")\n",
    "print(\"A = \", a)\n",
    "print(\"B = \", b)\n",
    "c = a\n",
    "a = b\n",
    "b = c\n",
    "print(\"After Swapping\")\n",
    "print(\"A = \", a)\n",
    "print(\"B = \", b)"
   ]
  },
  {
   "cell_type": "markdown",
   "metadata": {},
   "source": [
    "----"
   ]
  },
  {
   "cell_type": "markdown",
   "metadata": {},
   "source": [
    "# Question 4"
   ]
  },
  {
   "cell_type": "code",
   "execution_count": 19,
   "metadata": {},
   "outputs": [
    {
     "name": "stdout",
     "output_type": "stream",
     "text": [
      " Enter the first Number 10\n",
      " Enter the second Number 20\n",
      "Before Swapping\n",
      "A =  10\n",
      "B =  20\n",
      "After Swapping\n",
      "A =  20\n",
      "B =  10\n"
     ]
    }
   ],
   "source": [
    "a = int(input(\" Enter the first Number \"))\n",
    "b = int(input(\" Enter the second Number \"))\n",
    "print(\"Before Swapping\")\n",
    "print(\"A = \", a)\n",
    "print(\"B = \", b)\n",
    "a = a + b\n",
    "b = a - b\n",
    "a = a - b\n",
    "print(\"After Swapping\")\n",
    "print(\"A = \", a)\n",
    "print(\"B = \", b)"
   ]
  },
  {
   "cell_type": "markdown",
   "metadata": {},
   "source": [
    "-------"
   ]
  },
  {
   "cell_type": "markdown",
   "metadata": {},
   "source": [
    "# Question 5"
   ]
  },
  {
   "cell_type": "code",
   "execution_count": 24,
   "metadata": {},
   "outputs": [
    {
     "name": "stdout",
     "output_type": "stream",
     "text": [
      "Enter the temperature in Fahrenheit - 100\n",
      "Temperature in Celsius :  37.77777777777778\n",
      "Temperature in Kelvin :  310.77777777777777\n"
     ]
    }
   ],
   "source": [
    "f = float(input(\"Enter the temperature in Fahrenheit - \"))\n",
    "c = 5 / 9 * (f - 32)\n",
    "k = 5 / 9 * (f - 32) + 273\n",
    "print(\"Temperature in Celsius : \", c)\n",
    "print(\"Temperature in Kelvin : \", k )"
   ]
  },
  {
   "cell_type": "markdown",
   "metadata": {},
   "source": [
    "-----"
   ]
  },
  {
   "cell_type": "markdown",
   "metadata": {},
   "source": [
    "# Question 6"
   ]
  },
  {
   "cell_type": "code",
   "execution_count": 33,
   "metadata": {},
   "outputs": [
    {
     "name": "stdout",
     "output_type": "stream",
     "text": [
      "Data Type of a -  <class 'int'>\n",
      "Data Type of b -  <class 'float'>\n",
      "Data Type of c -  <class 'str'>\n",
      "Data Type of d -  <class 'complex'>\n"
     ]
    }
   ],
   "source": [
    "a = 4\n",
    "b = 5.0\n",
    "c = \"Bharath Roshan\"\n",
    "d = 2 + 3j\n",
    "\n",
    "print(\"Data Type of a - \",type(a))\n",
    "print(\"Data Type of b - \",type(b))\n",
    "print(\"Data Type of c - \",type(c))\n",
    "print(\"Data Type of d - \",type(d))\n"
   ]
  },
  {
   "cell_type": "markdown",
   "metadata": {},
   "source": [
    "-----"
   ]
  },
  {
   "cell_type": "markdown",
   "metadata": {},
   "source": [
    "# Question 7"
   ]
  },
  {
   "cell_type": "markdown",
   "metadata": {},
   "source": [
    "Step 1 - Create a new Github Profile <br>\n",
    "Step 2 - Login to your Profile <br>\n",
    "Step 3 - Click on the '+' on the top right hand side and select 'New Repository' <br>\n",
    "Step 4 - Enter the Repository name, select public and initialise the readme.md file and click on create new repository <br>\n",
    "Step 5 - After the repository is created we can drag and drop the files which we want to upload to the repository <br>"
   ]
  },
  {
   "cell_type": "code",
   "execution_count": null,
   "metadata": {},
   "outputs": [],
   "source": []
  }
 ],
 "metadata": {
  "kernelspec": {
   "display_name": "Python 3",
   "language": "python",
   "name": "python3"
  },
  "language_info": {
   "codemirror_mode": {
    "name": "ipython",
    "version": 3
   },
   "file_extension": ".py",
   "mimetype": "text/x-python",
   "name": "python",
   "nbconvert_exporter": "python",
   "pygments_lexer": "ipython3",
   "version": "3.7.6"
  }
 },
 "nbformat": 4,
 "nbformat_minor": 4
}
