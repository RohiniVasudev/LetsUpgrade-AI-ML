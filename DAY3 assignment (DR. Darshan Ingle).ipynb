{
 "cells": [
  {
   "cell_type": "markdown",
   "metadata": {},
   "source": [
    "# DAY3 ASSIGNMENT"
   ]
  },
  {
   "cell_type": "code",
   "execution_count": 1,
   "metadata": {},
   "outputs": [
    {
     "name": "stdout",
     "output_type": "stream",
     "text": [
      "subtraction of 2 complex is :  (-2+2j)\n"
     ]
    }
   ],
   "source": [
    "#write a prog to substract 2 complex number in python\n",
    "def num(num1,num2):\n",
    "    return num1-num2\n",
    "num1=complex(5,6)\n",
    "num2=complex(7,4)\n",
    "print(\"subtraction of 2 complex is : \",num(num1,num2))\n"
   ]
  },
  {
   "cell_type": "code",
   "execution_count": 3,
   "metadata": {},
   "outputs": [],
   "source": [
    "#write a prog to find the fourth root of a number\n",
    "import math\n",
    "def f(num):\n",
    "    return math.sqrt(math.sqrt(num))"
   ]
  },
  {
   "cell_type": "code",
   "execution_count": 5,
   "metadata": {},
   "outputs": [
    {
     "name": "stdout",
     "output_type": "stream",
     "text": [
      "the value of x after swapping : 9\n",
      "the value of y after swapping : 8\n"
     ]
    }
   ],
   "source": [
    "#question 3\n",
    "x=8\n",
    "y=9\n",
    "temp=x\n",
    "x=y\n",
    "y=temp\n",
    "print(\"the value of x after swapping : {}\".format(x))\n",
    "print(\"the value of y after swapping : {}\".format(y))"
   ]
  },
  {
   "cell_type": "code",
   "execution_count": 7,
   "metadata": {},
   "outputs": [
    {
     "name": "stdout",
     "output_type": "stream",
     "text": [
      "x = 10\n",
      "y = 5\n"
     ]
    }
   ],
   "source": [
    "#question 4\n",
    "x = 5\n",
    "y = 10\n",
    "\n",
    "x, y = y, x\n",
    "print(\"x =\", x)\n",
    "print(\"y =\", y)\n"
   ]
  },
  {
   "cell_type": "code",
   "execution_count": 8,
   "metadata": {},
   "outputs": [
    {
     "name": "stdout",
     "output_type": "stream",
     "text": [
      "Enter temperature in celsius: 56.9\n",
      "56.900 Celsius = 134.420 Fahrenheit.\n",
      "56.900 Celsius = 330.050 Kelvin.\n"
     ]
    }
   ],
   "source": [
    "#question 5\n",
    "celsius = float(input('Enter temperature in celsius: '))\n",
    "fahrenheit = 1.8 * celsius + 32\n",
    "kelvin = 273.15 + celsius\n",
    "print('%0.3f Celsius = %0.3f Fahrenheit.' % (celsius, fahrenheit))\n",
    "print('%0.3f Celsius = %0.3f Kelvin.' % (celsius, kelvin))"
   ]
  },
  {
   "cell_type": "code",
   "execution_count": 9,
   "metadata": {},
   "outputs": [
    {
     "name": "stdout",
     "output_type": "stream",
     "text": [
      "5 is of type <class 'int'>\n",
      "2.0 is of type <class 'float'>\n",
      "(1+2j) is complex number? True\n"
     ]
    }
   ],
   "source": [
    "#question6\n",
    "a = 5\n",
    "print(a, \"is of type\", type(a))\n",
    "\n",
    "a = 2.0\n",
    "print(a, \"is of type\", type(a))\n",
    "\n",
    "a = 1+2j\n",
    "print(a, \"is complex number?\", isinstance(1+2j,complex))\n",
    "\n"
   ]
  },
  {
   "cell_type": "code",
   "execution_count": null,
   "metadata": {},
   "outputs": [],
   "source": [
    "#question 7\n",
    "step1: open github profile and signup using google account.\n",
    "step2: Once profile created click new \n",
    "step3: name your repository as letsupgrade AI ML.\n",
    "step4: and click on create repository.\n",
    "step5: there will be letsupgrade folder will be created.\n",
    "step6: click on upload existing files and drag and drop the file\n",
    "step7: once you upload the folder go to that and copy the link of the file and sumbit assignment.    \n"
   ]
  }
 ],
 "metadata": {
  "kernelspec": {
   "display_name": "Python 3",
   "language": "python",
   "name": "python3"
  },
  "language_info": {
   "codemirror_mode": {
    "name": "ipython",
    "version": 3
   },
   "file_extension": ".py",
   "mimetype": "text/x-python",
   "name": "python",
   "nbconvert_exporter": "python",
   "pygments_lexer": "ipython3",
   "version": "3.7.4"
  }
 },
 "nbformat": 4,
 "nbformat_minor": 2
}
