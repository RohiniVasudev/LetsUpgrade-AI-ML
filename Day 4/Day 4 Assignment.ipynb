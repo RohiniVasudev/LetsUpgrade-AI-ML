{
 "cells": [
  {
   "cell_type": "markdown",
   "metadata": {},
   "source": [
    "# Question 1"
   ]
  },
  {
   "cell_type": "code",
   "execution_count": 1,
   "metadata": {},
   "outputs": [
    {
     "name": "stdout",
     "output_type": "stream",
     "text": [
      "Enter 1st complex number = 2+3j\n",
      "Enter 2nd complex number = 1+2j\n",
      "(3+5j)\n",
      "(1+1j)\n",
      "(-4+7j)\n",
      "(1.6-0.2j)\n"
     ]
    }
   ],
   "source": [
    "a = complex(input(\"Enter 1st complex number = \"))\n",
    "b = complex(input(\"Enter 2nd complex number = \"))\n",
    "c = a + b\n",
    "d = a - b\n",
    "e = a * b\n",
    "f = a / b\n",
    "\n",
    "print(c)\n",
    "print(d)\n",
    "print(e)\n",
    "print(f)\n"
   ]
  },
  {
   "cell_type": "markdown",
   "metadata": {},
   "source": [
    "# Question 2"
   ]
  },
  {
   "cell_type": "markdown",
   "metadata": {},
   "source": [
    "Range Function generates number between the given range. This function takes 3 parameters that is the lower limit,upper limit and the step.\n"
   ]
  },
  {
   "cell_type": "code",
   "execution_count": 10,
   "metadata": {},
   "outputs": [
    {
     "name": "stdout",
     "output_type": "stream",
     "text": [
      " Enter the lowest limit = 10\n",
      "Enter the upper limit = 20\n",
      "Enter the step = 2\n",
      "10\n",
      "12\n",
      "14\n",
      "16\n",
      "18\n"
     ]
    }
   ],
   "source": [
    "lowlim = int(input(\" Enter the lowest limit = \"))\n",
    "uplim = int(input(\"Enter the upper limit = \"))\n",
    "stp = int(input(\"Enter the step = \"))\n",
    "\n",
    "for i in range(lowlim,uplim,stp):\n",
    "    print(i)\n",
    "    \n",
    "\n",
    "    \n"
   ]
  },
  {
   "cell_type": "markdown",
   "metadata": {},
   "source": [
    "# Question 3"
   ]
  },
  {
   "cell_type": "code",
   "execution_count": 12,
   "metadata": {},
   "outputs": [
    {
     "name": "stdout",
     "output_type": "stream",
     "text": [
      "Enter 1st number 100\n",
      "Enter 2nd number 25\n",
      "Multiplication Result =  2500\n"
     ]
    }
   ],
   "source": [
    "n1 = int(input(\"Enter 1st number \"))\n",
    "n2 = int(input(\"Enter 2nd number \"))\n",
    "n = n1 - n2\n",
    "if(n > 25):\n",
    "    print(\"Multiplication Result = \", n1*n2)\n",
    "else:\n",
    "    print(\"Division Result = \", n1/n2)"
   ]
  },
  {
   "cell_type": "markdown",
   "metadata": {},
   "source": [
    "# Question 4"
   ]
  },
  {
   "cell_type": "code",
   "execution_count": 16,
   "metadata": {},
   "outputs": [
    {
     "name": "stdout",
     "output_type": "stream",
     "text": [
      "2\n",
      "34\n",
      "62\n",
      "142\n",
      "98\n"
     ]
    }
   ],
   "source": [
    "lst = [2,5,6,8,7,12,10,11,19,27]\n",
    "for i in lst:\n",
    "    if i%2 == 0:\n",
    "        print((i**2)-2)\n"
   ]
  },
  {
   "cell_type": "markdown",
   "metadata": {},
   "source": [
    "# Question 5"
   ]
  },
  {
   "cell_type": "code",
   "execution_count": 18,
   "metadata": {},
   "outputs": [
    {
     "name": "stdout",
     "output_type": "stream",
     "text": [
      "20 76 19 27 "
     ]
    }
   ],
   "source": [
    "lst1 = [2,5,6,8,7,20,76,11,19,27]\n",
    "for i in lst1:\n",
    "    if i/2 > 7:\n",
    "        print(i,end= \" \")"
   ]
  },
  {
   "cell_type": "code",
   "execution_count": null,
   "metadata": {},
   "outputs": [],
   "source": []
  }
 ],
 "metadata": {
  "kernelspec": {
   "display_name": "Python 3",
   "language": "python",
   "name": "python3"
  },
  "language_info": {
   "codemirror_mode": {
    "name": "ipython",
    "version": 3
   },
   "file_extension": ".py",
   "mimetype": "text/x-python",
   "name": "python",
   "nbconvert_exporter": "python",
   "pygments_lexer": "ipython3",
   "version": "3.7.6"
  }
 },
 "nbformat": 4,
 "nbformat_minor": 4
}
