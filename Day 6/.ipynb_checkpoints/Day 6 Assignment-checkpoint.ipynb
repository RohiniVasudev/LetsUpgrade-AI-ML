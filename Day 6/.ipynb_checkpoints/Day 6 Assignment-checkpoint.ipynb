{
 "cells": [
  {
   "cell_type": "markdown",
   "metadata": {},
   "source": [
    "# Question 1"
   ]
  },
  {
   "cell_type": "code",
   "execution_count": 1,
   "metadata": {},
   "outputs": [
    {
     "name": "stdout",
     "output_type": "stream",
     "text": [
      "Enter a Mail id - bharath@google.com\n",
      "Company Name =  ['google']\n"
     ]
    }
   ],
   "source": [
    "import re\n",
    "mailid = input(\"Enter a Mail id - \")\n",
    "maillist = re.findall(r\"\\@(.*?)\\.\",mailid)\n",
    "print(\"Company Name = \",maillist)"
   ]
  },
  {
   "cell_type": "markdown",
   "metadata": {},
   "source": [
    "------"
   ]
  },
  {
   "cell_type": "markdown",
   "metadata": {},
   "source": [
    "# Question 2"
   ]
  },
  {
   "cell_type": "code",
   "execution_count": 2,
   "metadata": {},
   "outputs": [
    {
     "name": "stdout",
     "output_type": "stream",
     "text": [
      "Enter the words - Hi I am Bharath Roshan\n",
      "Bharath,Hi,I,Roshan,am,"
     ]
    }
   ],
   "source": [
    "words = input(\"Enter the words - \")\n",
    "wordlist = words.split()\n",
    "\n",
    "wordlist.sort()\n",
    "\n",
    "for sword in wordlist:\n",
    "    print(sword,end=\",\")\n",
    "\n"
   ]
  },
  {
   "cell_type": "markdown",
   "metadata": {},
   "source": [
    "-----"
   ]
  },
  {
   "cell_type": "markdown",
   "metadata": {},
   "source": [
    "# Question 3\n"
   ]
  },
  {
   "cell_type": "code",
   "execution_count": 15,
   "metadata": {},
   "outputs": [
    {
     "name": "stdout",
     "output_type": "stream",
     "text": [
      "{'Python', 'C++', 'Javascript', 'Java', 'C'}\n"
     ]
    }
   ],
   "source": [
    "#Adding a new item into the set\n",
    "lang = {'C','C++','Java','Python'}\n",
    "lang.add('Javascript')\n",
    "print(lang)"
   ]
  },
  {
   "cell_type": "code",
   "execution_count": 16,
   "metadata": {},
   "outputs": [
    {
     "name": "stdout",
     "output_type": "stream",
     "text": [
      "5\n"
     ]
    }
   ],
   "source": [
    "#Returns the length of the set\n",
    "print(len(lang))"
   ]
  },
  {
   "cell_type": "code",
   "execution_count": 17,
   "metadata": {},
   "outputs": [
    {
     "name": "stdout",
     "output_type": "stream",
     "text": [
      "{'Python', 'C++', 'Java', 'C'}\n"
     ]
    }
   ],
   "source": [
    "#Removes a particular item from the set\n",
    "lang.remove('Javascript')\n",
    "print(lang)"
   ]
  },
  {
   "cell_type": "code",
   "execution_count": 18,
   "metadata": {},
   "outputs": [
    {
     "name": "stdout",
     "output_type": "stream",
     "text": [
      "{'C++', 'Java', 'C'}\n"
     ]
    }
   ],
   "source": [
    "#Pops out the 1st item from the list\n",
    "lang.pop()\n",
    "print(lang)"
   ]
  },
  {
   "cell_type": "code",
   "execution_count": 19,
   "metadata": {},
   "outputs": [
    {
     "name": "stdout",
     "output_type": "stream",
     "text": [
      "{1, 2, 3, 4, 5, 6, 7, 8}\n"
     ]
    }
   ],
   "source": [
    "#Returns the union of both the list\n",
    "a = {1,2,3,4}\n",
    "b = {5,6,7,8}\n",
    "print(a.union(b))"
   ]
  },
  {
   "cell_type": "code",
   "execution_count": 20,
   "metadata": {},
   "outputs": [
    {
     "name": "stdout",
     "output_type": "stream",
     "text": [
      "set()\n"
     ]
    }
   ],
   "source": [
    "#Returns the intersection of both the list. This returns null set because there are no common items in both the lists\n",
    "print(a.intersection(b))"
   ]
  },
  {
   "cell_type": "code",
   "execution_count": 22,
   "metadata": {},
   "outputs": [
    {
     "name": "stdout",
     "output_type": "stream",
     "text": [
      "False\n"
     ]
    }
   ],
   "source": [
    "#Checks whether 1 set is subset of another\n",
    "print(a.issubset(b))"
   ]
  },
  {
   "cell_type": "markdown",
   "metadata": {},
   "source": [
    "-----"
   ]
  },
  {
   "cell_type": "markdown",
   "metadata": {},
   "source": [
    "# Question 4"
   ]
  },
  {
   "cell_type": "code",
   "execution_count": 30,
   "metadata": {},
   "outputs": [
    {
     "name": "stdout",
     "output_type": "stream",
     "text": [
      "Missing Value =  5\n"
     ]
    }
   ],
   "source": [
    "num = [1,2,3,4,6,7,8]\n",
    "s = 0\n",
    "n = 8\n",
    "while(n>0):\n",
    "    s += n\n",
    "    n -= 1\n",
    "mv = s - sum(num)\n",
    "print(\"Missing Value = \",mv)"
   ]
  },
  {
   "cell_type": "markdown",
   "metadata": {},
   "source": [
    "-----"
   ]
  },
  {
   "cell_type": "markdown",
   "metadata": {},
   "source": [
    "# Question 5"
   ]
  },
  {
   "cell_type": "code",
   "execution_count": 29,
   "metadata": {},
   "outputs": [
    {
     "name": "stdout",
     "output_type": "stream",
     "text": [
      "Enter elements into list - 1 2 2 3 4 5 5 6 7\n",
      "['1', '2', '3', '4', '5', '6', '7']\n"
     ]
    }
   ],
   "source": [
    "n = input(\"Enter elements into list - \")\n",
    "ele = n.split()\n",
    "dn = []\n",
    "for i in ele:\n",
    "    if i not in dn:\n",
    "        dn.append(i)\n",
    "print(dn)"
   ]
  },
  {
   "cell_type": "code",
   "execution_count": null,
   "metadata": {},
   "outputs": [],
   "source": []
  }
 ],
 "metadata": {
  "kernelspec": {
   "display_name": "Python 3",
   "language": "python",
   "name": "python3"
  },
  "language_info": {
   "codemirror_mode": {
    "name": "ipython",
    "version": 3
   },
   "file_extension": ".py",
   "mimetype": "text/x-python",
   "name": "python",
   "nbconvert_exporter": "python",
   "pygments_lexer": "ipython3",
   "version": "3.7.6"
  }
 },
 "nbformat": 4,
 "nbformat_minor": 4
}
