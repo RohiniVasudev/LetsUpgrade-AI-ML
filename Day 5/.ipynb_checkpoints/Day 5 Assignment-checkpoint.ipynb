{
 "cells": [
  {
   "cell_type": "markdown",
   "metadata": {},
   "source": [
    "# Question 1"
   ]
  },
  {
   "cell_type": "code",
   "execution_count": 1,
   "metadata": {},
   "outputs": [],
   "source": [
    "def isPrime(number):\n",
    "    if number <= 1:\n",
    "        return False\n",
    "    for num in range(2,number):\n",
    "        if number % num == 0:\n",
    "            return False\n",
    "    return True"
   ]
  },
  {
   "cell_type": "code",
   "execution_count": 2,
   "metadata": {},
   "outputs": [],
   "source": [
    "def nonEvenPrimeNumbers(limit):\n",
    "    count = 0\n",
    "    result = []\n",
    "    num = 1\n",
    "    \n",
    "    while count != limit:\n",
    "        if(num) % 2 != 0 and isPrime(num):\n",
    "            result.append(num)\n",
    "            count+=1\n",
    "        num+=1\n",
    "    return result"
   ]
  },
  {
   "cell_type": "code",
   "execution_count": 4,
   "metadata": {},
   "outputs": [
    {
     "data": {
      "text/plain": [
       "[3, 5, 7, 11, 13, 17, 19, 23, 29, 31, 37, 41, 43, 47, 53, 59, 61, 67, 71, 73]"
      ]
     },
     "execution_count": 4,
     "metadata": {},
     "output_type": "execute_result"
    }
   ],
   "source": [
    "nonEvenPrimeNumbers(20)"
   ]
  },
  {
   "cell_type": "markdown",
   "metadata": {},
   "source": [
    "------"
   ]
  },
  {
   "cell_type": "markdown",
   "metadata": {},
   "source": [
    "# Question 2"
   ]
  },
  {
   "cell_type": "code",
   "execution_count": 26,
   "metadata": {},
   "outputs": [
    {
     "name": "stdout",
     "output_type": "stream",
     "text": [
      "Bharath\n",
      "bharath\n",
      " Bharath  \n",
      "2\n",
      "b'Bharath'\n",
      "True\n",
      "Bharath\n",
      "3\n",
      "True\n",
      "True\n",
      "False\n",
      "True\n",
      "True\n",
      "False\n"
     ]
    }
   ],
   "source": [
    "a = \"Bharath\"\n",
    "print(a.capitalize())\n",
    "print(a.casefold())\n",
    "print(a.center(10))\n",
    "print(a.count('a'))\n",
    "print(a.encode())\n",
    "print(a.endswith('h'))\n",
    "print(a.expandtabs())\n",
    "print(a.find('r'))\n",
    "print(a.isalnum())\n",
    "print(a.isalpha())\n",
    "print(a.islower())\n",
    "print(a.isascii())\n",
    "print(a.isprintable())\n",
    "print(a.isnumeric())\n"
   ]
  },
  {
   "cell_type": "markdown",
   "metadata": {},
   "source": [
    "------"
   ]
  },
  {
   "cell_type": "markdown",
   "metadata": {},
   "source": [
    "# Question 3"
   ]
  },
  {
   "cell_type": "code",
   "execution_count": 61,
   "metadata": {},
   "outputs": [
    {
     "name": "stdout",
     "output_type": "stream",
     "text": [
      "Enter 1st String - Fried\n",
      "Enter 2nd String - Fired\n",
      "The Strings are only Anagram\n"
     ]
    }
   ],
   "source": [
    "str1 = input(\"Enter 1st String - \")\n",
    "str2 = input(\"Enter 2nd String - \")\n",
    "\n",
    "if((sorted(str1)==sorted(str2)) and (str1 == str2[::-1])):\n",
    "    print(\"The Strings are anagram and Palindrome\")\n",
    "elif((str1 == str2[::-1]) and (sorted(str1)!=sorted(str2))):\n",
    "    print(\"The Strings are only Palindrome\")\n",
    "elif((str1 != str2[::-1]) and (sorted(str1)==sorted(str2))):\n",
    "    print(\"The Strings are only Anagram\")\n",
    "else:\n",
    "    print(\"They are neither palindrome or anagram\")\n",
    "\n",
    "\n",
    "\n",
    "\n"
   ]
  },
  {
   "cell_type": "markdown",
   "metadata": {},
   "source": [
    "-----"
   ]
  },
  {
   "cell_type": "markdown",
   "metadata": {},
   "source": [
    "# Question 4"
   ]
  },
  {
   "cell_type": "code",
   "execution_count": 32,
   "metadata": {},
   "outputs": [],
   "source": [
    "import re\n",
    "def extract(sentence):\n",
    "    strResult = ''\n",
    "    return strResult.join([ele.lower() for ele in re.findall('[A-Za-z]',sentence)])\n",
    "\n",
    "    \n",
    "    "
   ]
  },
  {
   "cell_type": "code",
   "execution_count": 33,
   "metadata": {},
   "outputs": [
    {
     "data": {
      "text/plain": [
       "'bharathroshanbraimlstudent'"
      ]
     },
     "execution_count": 33,
     "metadata": {},
     "output_type": "execute_result"
    }
   ],
   "source": [
    "sentence = \"BharathRoshan.B.R@AI-ML Student\"\n",
    "extract(sentence)"
   ]
  },
  {
   "cell_type": "code",
   "execution_count": null,
   "metadata": {},
   "outputs": [],
   "source": []
  },
  {
   "cell_type": "code",
   "execution_count": null,
   "metadata": {},
   "outputs": [],
   "source": []
  }
 ],
 "metadata": {
  "kernelspec": {
   "display_name": "Python 3",
   "language": "python",
   "name": "python3"
  },
  "language_info": {
   "codemirror_mode": {
    "name": "ipython",
    "version": 3
   },
   "file_extension": ".py",
   "mimetype": "text/x-python",
   "name": "python",
   "nbconvert_exporter": "python",
   "pygments_lexer": "ipython3",
   "version": "3.7.6"
  }
 },
 "nbformat": 4,
 "nbformat_minor": 4
}
